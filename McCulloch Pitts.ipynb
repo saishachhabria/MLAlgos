{
 "cells": [
  {
   "cell_type": "code",
   "execution_count": 9,
   "metadata": {},
   "outputs": [],
   "source": [
    "x=[[0,0,0],[0,1,0],[1,0,0],[1,1,1]]"
   ]
  },
  {
   "cell_type": "code",
   "execution_count": 22,
   "metadata": {},
   "outputs": [
    {
     "name": "stdin",
     "output_type": "stream",
     "text": [
      "Enter threshold 5\n",
      "Enter weight 1 2\n",
      "Enter weight 2 3\n"
     ]
    }
   ],
   "source": [
    "t=int(input(\"Enter threshold\"))\n",
    "w1=int(input(\"Enter weight 1\"))\n",
    "w2=int(input(\"Enter weight 2\"))"
   ]
  },
  {
   "cell_type": "code",
   "execution_count": 23,
   "metadata": {},
   "outputs": [],
   "source": [
    "import random\n",
    "k=0\n",
    "while(k==0):\n",
    "    j=0\n",
    "    for i in x:\n",
    "        net=w1*i[0]+w2*i[1]\n",
    "        if(net>t):\n",
    "            ao=1\n",
    "        else:\n",
    "            ao=0\n",
    "        if(ao!=i[2]):\n",
    "            j=j+1\n",
    "    if(j==0):\n",
    "        k=1\n",
    "    else:\n",
    "        w1=random.randint(-500,500)\n",
    "        w2=random.randint(-50,50)"
   ]
  },
  {
   "cell_type": "code",
   "execution_count": 24,
   "metadata": {},
   "outputs": [
    {
     "data": {
      "text/plain": [
       "3"
      ]
     },
     "execution_count": 24,
     "metadata": {},
     "output_type": "execute_result"
    }
   ],
   "source": [
    "w1"
   ]
  },
  {
   "cell_type": "code",
   "execution_count": 25,
   "metadata": {},
   "outputs": [
    {
     "data": {
      "text/plain": [
       "3"
      ]
     },
     "execution_count": 25,
     "metadata": {},
     "output_type": "execute_result"
    }
   ],
   "source": [
    "w2"
   ]
  },
  {
   "cell_type": "code",
   "execution_count": 26,
   "metadata": {},
   "outputs": [],
   "source": [
    "x=[[0,0,0],[0,1,1],[1,0,1],[1,1,1]]\n",
    "import random\n",
    "k=0\n",
    "while(k==0):\n",
    "    j=0\n",
    "    for i in x:\n",
    "        net=w1*i[0]+w2*i[1]\n",
    "        if(net>t):\n",
    "            ao=1\n",
    "        else:\n",
    "            ao=0\n",
    "        if(ao!=i[2]):\n",
    "            j=j+1\n",
    "    if(j==0):\n",
    "        k=1\n",
    "    else:\n",
    "        w1=random.randint(-500,500)\n",
    "        w2=random.randint(-50,50)"
   ]
  },
  {
   "cell_type": "code",
   "execution_count": 27,
   "metadata": {},
   "outputs": [
    {
     "data": {
      "text/plain": [
       "429"
      ]
     },
     "execution_count": 27,
     "metadata": {},
     "output_type": "execute_result"
    }
   ],
   "source": [
    "w1"
   ]
  },
  {
   "cell_type": "code",
   "execution_count": 28,
   "metadata": {},
   "outputs": [
    {
     "data": {
      "text/plain": [
       "11"
      ]
     },
     "execution_count": 28,
     "metadata": {},
     "output_type": "execute_result"
    }
   ],
   "source": [
    "w2"
   ]
  },
  {
   "cell_type": "code",
   "execution_count": 35,
   "metadata": {},
   "outputs": [
    {
     "name": "stdout",
     "output_type": "stream",
     "text": [
      "484\n",
      "484\n"
     ]
    }
   ],
   "source": [
    "x=[[0,1],[1,0]]\n",
    "import random\n",
    "k=0\n",
    "h=0\n",
    "while(k==0):\n",
    "    j=0\n",
    "    for i in x:\n",
    "        net=w1*i[0]\n",
    "        if(net<t):\n",
    "            ao=1\n",
    "        else:\n",
    "            ao=0\n",
    "        if(ao!=i[1]):\n",
    "            j=j+1\n",
    "    if(j==0):\n",
    "        k=1\n",
    "    else:\n",
    "        w1=random.randint(-500,500)\n",
    "        \n",
    "    print(w1)"
   ]
  },
  {
   "cell_type": "code",
   "execution_count": 36,
   "metadata": {},
   "outputs": [
    {
     "data": {
      "text/plain": [
       "484"
      ]
     },
     "execution_count": 36,
     "metadata": {},
     "output_type": "execute_result"
    }
   ],
   "source": [
    "w1"
   ]
  },
  {
   "cell_type": "code",
   "execution_count": 34,
   "metadata": {},
   "outputs": [
    {
     "data": {
      "text/plain": [
       "-408"
      ]
     },
     "execution_count": 34,
     "metadata": {},
     "output_type": "execute_result"
    }
   ],
   "source": [
    "w1"
   ]
  },
  {
   "cell_type": "code",
   "execution_count": null,
   "metadata": {},
   "outputs": [],
   "source": []
  }
 ],
 "metadata": {
  "kernelspec": {
   "display_name": "Python 3",
   "language": "python",
   "name": "python3"
  },
  "language_info": {
   "codemirror_mode": {
    "name": "ipython",
    "version": 3
   },
   "file_extension": ".py",
   "mimetype": "text/x-python",
   "name": "python",
   "nbconvert_exporter": "python",
   "pygments_lexer": "ipython3",
   "version": "3.7.2"
  }
 },
 "nbformat": 4,
 "nbformat_minor": 4
}
