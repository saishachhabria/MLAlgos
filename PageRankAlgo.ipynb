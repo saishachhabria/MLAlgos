{
 "cells": [
  {
   "cell_type": "code",
   "execution_count": 13,
   "metadata": {},
   "outputs": [
    {
     "name": "stdout",
     "output_type": "stream",
     "text": [
      "Enter no. of nodes: 4\n",
      "Enter adjacency matrix: \n",
      "0 1 1 1\n",
      "0 0 0 1\n",
      "1 0 0 1\n",
      "1 0 1 0\n",
      "\n",
      "Page ranks are:\n",
      "1 : 1.2\n",
      "2 : 0.4\n",
      "3 : 1.0\n",
      "4 : 1.3\n"
     ]
    }
   ],
   "source": [
    "import numpy as np\n",
    "import pandas as pd\n",
    "\n",
    "n = int(input(\"Enter no. of nodes: \"))\n",
    "print(\"Enter adjacency matrix: \")\n",
    "graph = []\n",
    "for i in range(n):\n",
    "    graph.append([int(x) for x in input().split(\" \")])\n",
    "\n",
    "array = np.array(graph)\n",
    "outgoing = {}\n",
    "c = 0\n",
    "matrix = []\n",
    "\n",
    "for i in array:\n",
    "    matrix.append([])\n",
    "    outgoing[c] = 0\n",
    "    for j in i:\n",
    "        # i has a path to i.index(j) ?\n",
    "        if j == 1:\n",
    "            outgoing[c] += 1\n",
    "    for j in i:\n",
    "        matrix[c].append(round(j/outgoing[c],2))\n",
    "    c += 1\n",
    "\n",
    "matrix = np.array(matrix).T\n",
    "\n",
    "x = []\n",
    "for i in range(n):\n",
    "    x.append([1]);\n",
    "\n",
    "x = np.array(x)\n",
    "flag = 0\n",
    "while(flag == 0):\n",
    "    p = x\n",
    "    x = matrix.dot(x)\n",
    "    for i in range(n):\n",
    "        x[i][0] = round(x[i][0],1)\n",
    "    if np.array_equal(p,x):\n",
    "        flag = 1 \n",
    "print(\"\\nPage ranks are:\")\n",
    "for i in range(n):\n",
    "    print(str(i+1),\":\",x[i][0])"
   ]
  },
  {
   "cell_type": "code",
   "execution_count": null,
   "metadata": {},
   "outputs": [],
   "source": []
  }
 ],
 "metadata": {
  "kernelspec": {
   "display_name": "Python 3",
   "language": "python",
   "name": "python3"
  },
  "language_info": {
   "codemirror_mode": {
    "name": "ipython",
    "version": 3
   },
   "file_extension": ".py",
   "mimetype": "text/x-python",
   "name": "python",
   "nbconvert_exporter": "python",
   "pygments_lexer": "ipython3",
   "version": "3.7.2"
  }
 },
 "nbformat": 4,
 "nbformat_minor": 2
}
